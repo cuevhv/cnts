{
 "cells": [
  {
   "cell_type": "code",
   "execution_count": 1,
   "metadata": {},
   "outputs": [
    {
     "name": "stdout",
     "output_type": "stream",
     "text": [
      "Extracting MNIST_data/train-images-idx3-ubyte.gz\n",
      "Extracting MNIST_data/train-labels-idx1-ubyte.gz\n",
      "Extracting MNIST_data/t10k-images-idx3-ubyte.gz\n",
      "Extracting MNIST_data/t10k-labels-idx1-ubyte.gz\n"
     ]
    }
   ],
   "source": [
    "import tensorflow as tf\n",
    "import numpy\n",
    "import numpy as np\n",
    "from tensorflow.examples.tutorials.mnist import input_data\n",
    "mnist = input_data.read_data_sets('MNIST_data', one_hot=True)"
   ]
  },
  {
   "cell_type": "markdown",
   "metadata": {},
   "source": [
    "## Define our input values"
   ]
  },
  {
   "cell_type": "code",
   "execution_count": 2,
   "metadata": {
    "collapsed": true
   },
   "outputs": [],
   "source": [
    "x = tf.placeholder(tf.float32, shape=[None, 784])\n",
    "y_ = tf.placeholder(tf.float32, shape=[None, 10])"
   ]
  },
  {
   "cell_type": "markdown",
   "metadata": {},
   "source": [
    "## Deffining our initial weights"
   ]
  },
  {
   "cell_type": "code",
   "execution_count": 3,
   "metadata": {
    "collapsed": true
   },
   "outputs": [],
   "source": [
    "def weight_variable(shape):\n",
    "    w_h = tf.truncated_normal(shape, stddev = 0.1)\n",
    "    return tf.Variable(w_h)\n",
    "def bias_variable(shape):\n",
    "    b_h = tf.constant(0.1, shape = shape)\n",
    "    return tf.Variable(b_h)"
   ]
  },
  {
   "cell_type": "markdown",
   "metadata": {},
   "source": [
    "## Deffining useful functions"
   ]
  },
  {
   "cell_type": "code",
   "execution_count": 4,
   "metadata": {
    "collapsed": true
   },
   "outputs": [],
   "source": [
    "def conv2d(Input, Weights):\n",
    "    return tf.nn.conv2d(Input, Weights, strides = [1, 1, 1, 1],\n",
    "                        padding='SAME')\n",
    "def max_pool_2x2(Input):\n",
    "    return tf.nn.max_pool(Input, ksize = [1, 2, 2, 1],\n",
    "                         strides = [1, 2, 2, 1], padding = 'SAME')"
   ]
  },
  {
   "cell_type": "markdown",
   "metadata": {},
   "source": [
    "## Choosing the device and our network architecture"
   ]
  },
  {
   "cell_type": "code",
   "execution_count": 10,
   "metadata": {
    "collapsed": true
   },
   "outputs": [
    {
     "name": "stdout",
     "output_type": "stream",
     "text": [
      "step 0, training accuracy 0.1\n",
      "step 100, training accuracy 0.4\n",
      "step 200, training accuracy 0.74\n",
      "step 300, training accuracy 0.9\n",
      "step 400, training accuracy 0.9\n",
      "step 500, training accuracy 0.86\n",
      "step 600, training accuracy 0.84\n",
      "step 700, training accuracy 0.92\n",
      "step 800, training accuracy 0.84\n",
      "step 900, training accuracy 0.88\n",
      "step 1000, training accuracy 0.88\n",
      "step 1100, training accuracy 0.86\n",
      "step 1200, training accuracy 0.88\n",
      "step 1300, training accuracy 0.86\n",
      "step 1400, training accuracy 0.82\n",
      "step 1500, training accuracy 0.98\n",
      "step 1600, training accuracy 0.94\n",
      "step 1700, training accuracy 0.94\n",
      "step 1800, training accuracy 0.88\n",
      "step 1900, training accuracy 0.94\n",
      "step 2000, training accuracy 0.9\n",
      "step 2100, training accuracy 0.84\n",
      "step 2200, training accuracy 0.94\n",
      "step 2300, training accuracy 0.92\n",
      "step 2400, training accuracy 0.88\n",
      "step 2500, training accuracy 0.9\n",
      "step 2600, training accuracy 0.82\n",
      "step 2700, training accuracy 0.96\n",
      "step 2800, training accuracy 0.94\n",
      "step 2900, training accuracy 0.88\n",
      "step 3000, training accuracy 1\n",
      "step 3100, training accuracy 0.94\n",
      "step 3200, training accuracy 0.94\n",
      "step 3300, training accuracy 0.94\n",
      "step 3400, training accuracy 0.9\n",
      "step 3500, training accuracy 0.98\n",
      "step 3600, training accuracy 0.94\n",
      "step 3700, training accuracy 0.9\n",
      "step 3800, training accuracy 0.98\n",
      "step 3900, training accuracy 0.9\n",
      "step 4000, training accuracy 0.86\n",
      "step 4100, training accuracy 0.94\n",
      "step 4200, training accuracy 0.94\n",
      "step 4300, training accuracy 0.96\n",
      "step 4400, training accuracy 0.92\n",
      "step 4500, training accuracy 0.96\n",
      "step 4600, training accuracy 0.94\n",
      "step 4700, training accuracy 0.94\n",
      "step 4800, training accuracy 0.98\n",
      "step 4900, training accuracy 0.92\n",
      "step 5000, training accuracy 0.92\n",
      "step 5100, training accuracy 0.98\n",
      "step 5200, training accuracy 0.96\n",
      "step 5300, training accuracy 0.88\n",
      "step 5400, training accuracy 0.92\n",
      "step 5500, training accuracy 0.98\n",
      "step 5600, training accuracy 0.9\n",
      "step 5700, training accuracy 0.96\n",
      "step 5800, training accuracy 0.94\n",
      "step 5900, training accuracy 0.98\n",
      "step 6000, training accuracy 0.94\n",
      "step 6100, training accuracy 1\n",
      "step 6200, training accuracy 0.98\n",
      "step 6300, training accuracy 0.94\n",
      "step 6400, training accuracy 0.98\n",
      "step 6500, training accuracy 0.96\n",
      "step 6600, training accuracy 0.98\n",
      "step 6700, training accuracy 1\n",
      "step 6800, training accuracy 0.98\n",
      "step 6900, training accuracy 0.94\n",
      "step 7000, training accuracy 0.96\n",
      "step 7100, training accuracy 0.96\n",
      "step 7200, training accuracy 0.94\n",
      "step 7300, training accuracy 0.96\n",
      "step 7400, training accuracy 0.98\n",
      "step 7500, training accuracy 0.98\n",
      "step 7600, training accuracy 0.94\n",
      "step 7700, training accuracy 0.98\n",
      "step 7800, training accuracy 1\n",
      "step 7900, training accuracy 0.94\n",
      "step 8000, training accuracy 0.98\n",
      "step 8100, training accuracy 1\n",
      "step 8200, training accuracy 0.96\n",
      "step 8300, training accuracy 0.9\n",
      "step 8400, training accuracy 1\n",
      "step 8500, training accuracy 0.96\n",
      "step 8600, training accuracy 0.96\n",
      "step 8700, training accuracy 0.98\n",
      "step 8800, training accuracy 0.9\n",
      "step 8900, training accuracy 0.98\n",
      "step 9000, training accuracy 1\n",
      "step 9100, training accuracy 0.94\n",
      "step 9200, training accuracy 0.96\n",
      "step 9300, training accuracy 0.96\n",
      "step 9400, training accuracy 0.98\n",
      "step 9500, training accuracy 0.96\n",
      "step 9600, training accuracy 0.96\n",
      "step 9700, training accuracy 0.98\n",
      "step 9800, training accuracy 1\n",
      "step 9900, training accuracy 1\n",
      "step 10000, training accuracy 0.98\n",
      "step 10100, training accuracy 0.98\n",
      "step 10200, training accuracy 1\n",
      "step 10300, training accuracy 1\n",
      "step 10400, training accuracy 0.98\n",
      "step 10500, training accuracy 1\n",
      "step 10600, training accuracy 0.94\n",
      "step 10700, training accuracy 0.98\n",
      "step 10800, training accuracy 0.98\n",
      "step 10900, training accuracy 1\n",
      "step 11000, training accuracy 1\n",
      "step 11100, training accuracy 0.98\n",
      "step 11200, training accuracy 0.94\n",
      "step 11300, training accuracy 0.98\n",
      "step 11400, training accuracy 0.98\n",
      "step 11500, training accuracy 1\n",
      "step 11600, training accuracy 1\n",
      "step 11700, training accuracy 0.98\n",
      "step 11800, training accuracy 0.98\n",
      "step 11900, training accuracy 0.96\n",
      "step 12000, training accuracy 0.98\n",
      "step 12100, training accuracy 0.98\n",
      "step 12200, training accuracy 0.94\n",
      "step 12300, training accuracy 1\n",
      "step 12400, training accuracy 0.96\n",
      "step 12500, training accuracy 1\n",
      "step 12600, training accuracy 1\n",
      "step 12700, training accuracy 1\n",
      "step 12800, training accuracy 0.96\n",
      "step 12900, training accuracy 0.96\n",
      "step 13000, training accuracy 1\n",
      "step 13100, training accuracy 0.96\n",
      "step 13200, training accuracy 0.96\n",
      "step 13300, training accuracy 1\n",
      "step 13400, training accuracy 0.98\n",
      "step 13500, training accuracy 1\n",
      "step 13600, training accuracy 1\n",
      "step 13700, training accuracy 0.98\n",
      "step 13800, training accuracy 0.98\n",
      "step 13900, training accuracy 0.98\n",
      "step 14000, training accuracy 1\n",
      "step 14100, training accuracy 1\n",
      "step 14200, training accuracy 0.96\n",
      "step 14300, training accuracy 1\n",
      "step 14400, training accuracy 1\n",
      "step 14500, training accuracy 0.98\n",
      "step 14600, training accuracy 0.98\n",
      "step 14700, training accuracy 1\n",
      "step 14800, training accuracy 0.96\n",
      "step 14900, training accuracy 0.98\n",
      "step 15000, training accuracy 0.98\n",
      "step 15100, training accuracy 1\n",
      "step 15200, training accuracy 1\n",
      "step 15300, training accuracy 0.98\n",
      "step 15400, training accuracy 1\n",
      "step 15500, training accuracy 0.98\n",
      "step 15600, training accuracy 0.98\n",
      "step 15700, training accuracy 0.98\n",
      "step 15800, training accuracy 1\n",
      "step 15900, training accuracy 1\n",
      "step 16000, training accuracy 1\n",
      "step 16100, training accuracy 0.98\n",
      "step 16200, training accuracy 0.98\n",
      "step 16300, training accuracy 1\n",
      "step 16400, training accuracy 1\n",
      "step 16500, training accuracy 0.98\n",
      "step 16600, training accuracy 0.96\n",
      "step 16700, training accuracy 0.98\n",
      "step 16800, training accuracy 0.98\n",
      "step 16900, training accuracy 1\n",
      "step 17000, training accuracy 1\n",
      "step 17100, training accuracy 1\n",
      "step 17200, training accuracy 1\n",
      "step 17300, training accuracy 1\n",
      "step 17400, training accuracy 0.98\n",
      "step 17500, training accuracy 0.98\n",
      "step 17600, training accuracy 1\n",
      "step 17700, training accuracy 1\n",
      "step 17800, training accuracy 0.98\n",
      "step 17900, training accuracy 1\n",
      "step 18000, training accuracy 0.98\n",
      "step 18100, training accuracy 0.98\n",
      "step 18200, training accuracy 1\n",
      "step 18300, training accuracy 0.94\n",
      "step 18400, training accuracy 0.98\n",
      "step 18500, training accuracy 0.96\n",
      "step 18600, training accuracy 0.98\n",
      "step 18700, training accuracy 0.98\n",
      "step 18800, training accuracy 0.98\n",
      "step 18900, training accuracy 1\n",
      "step 19000, training accuracy 0.94\n",
      "step 19100, training accuracy 0.98\n",
      "step 19200, training accuracy 0.98\n",
      "step 19300, training accuracy 1\n",
      "step 19400, training accuracy 1\n",
      "step 19500, training accuracy 0.96\n",
      "step 19600, training accuracy 1\n",
      "step 19700, training accuracy 1\n",
      "step 19800, training accuracy 1\n",
      "step 19900, training accuracy 1\n",
      "test accuracy 0.981792003405\n"
     ]
    }
   ],
   "source": [
    "with tf.device('/gpu:0'): #or '/cpu:0' for cpu only\n",
    "    W_conv1 = weight_variable([5, 5, 1, 32])\n",
    "    b_conv1 = bias_variable([32])\n",
    "    x_image = tf.reshape(x, [-1, 28, 28, 1])\n",
    "    h_conv1 = tf.nn.relu(conv2d(x_image, W_conv1) + b_conv1)\n",
    "    h_pool1 = max_pool_2x2(h_conv1)\n",
    "    \n",
    "    w_fc2 = weight_variable([14*14*32, 10])\n",
    "    b_fc2 = bias_variable([10])\n",
    "    \n",
    "    h_pool2_flat = tf.reshape(h_pool1, [-1, 14*14*32])\n",
    "    y_conv = tf.matmul(h_pool2_flat, w_fc2) + b_fc2\n",
    "    \n",
    "    cross_entropy = tf.reduce_mean(tf.nn.softmax_cross_entropy_with_logits(labels = y_, logits = y_conv))\n",
    "    train_step = tf.train.AdamOptimizer(1e-4).minimize(cross_entropy)\n",
    "    correct_prediction = tf.equal(tf.argmax(y_conv, 1), tf.argmax(y_, 1))\n",
    "    accuracy = tf.reduce_mean(tf.cast(correct_prediction, tf.float32))\n",
    "    \n",
    "    with tf.Session(config = tf.ConfigProto(allow_soft_placement = True,\n",
    "                                           log_device_placement = True)) as sess:\n",
    "        \n",
    "        sess.run(tf.global_variables_initializer())\n",
    "        for i in range(20000):\n",
    "            hp = h_pool1\n",
    "            batch = mnist.train.next_batch(50)\n",
    "            feed_dict={x: batch[0], y_: batch[1]}\n",
    "            if i%100 == 0:\n",
    "                train_accuracy = accuracy.eval(feed_dict=feed_dict)\n",
    "                print ('step %d, training accuracy %g' % (i, train_accuracy))\n",
    "            train_step.run(feed_dict=feed_dict)\n",
    "        #x = mnist.train.images[0:12]\n",
    "        #xx = x_image\n",
    "        #hh = h_conv1\n",
    "        #hp = h_pool1\n",
    "        n_batches = mnist.test.images.shape[0] #50\n",
    "        cumulative_accuracy = 0.0\n",
    "        for index in range(n_batches):\n",
    "            batch = mnist.test.next_batch(50)\n",
    "            cumulative_accuracy += accuracy.eval(feed_dict={x: batch[0], y_: batch[1]})\n",
    "        print(\"test accuracy {}\".format(cumulative_accuracy / n_batches))"
   ]
  },
  {
   "cell_type": "code",
   "execution_count": 57,
   "metadata": {},
   "outputs": [
    {
     "name": "stdout",
     "output_type": "stream",
     "text": [
      "(12, 28, 28, 1) (12, 784) (12, 28, 28, 32) (12, 14, 14, 32)\n"
     ]
    }
   ],
   "source": [
    "print xx.shape, x.shape, hh.shape, hp.shape"
   ]
  },
  {
   "cell_type": "code",
   "execution_count": 18,
   "metadata": {},
   "outputs": [
    {
     "name": "stdout",
     "output_type": "stream",
     "text": [
      "(?, 14, 14, 32)\n"
     ]
    }
   ],
   "source": [
    "print hp.shape"
   ]
  },
  {
   "cell_type": "code",
   "execution_count": 13,
   "metadata": {},
   "outputs": [
    {
     "data": {
      "text/plain": [
       "6272"
      ]
     },
     "execution_count": 13,
     "metadata": {},
     "output_type": "execute_result"
    }
   ],
   "source": [
    "313600/(50)"
   ]
  },
  {
   "cell_type": "code",
   "execution_count": 16,
   "metadata": {
    "collapsed": true
   },
   "outputs": [],
   "source": [
    "def cnn_layer(Input, Weights_shape, Bias_shape):\n",
    "    w_conv = weight_variable(Weights_shape)\n",
    "    b_conv = weight_variable(Bias_shape)\n",
    "    h_conv = tf.nn.relu(conv2d(Input, w_conv) + b_conv)\n",
    "    return h_conv, w_conv, b_conv"
   ]
  },
  {
   "cell_type": "code",
   "execution_count": 17,
   "metadata": {
    "collapsed": true
   },
   "outputs": [
    {
     "name": "stdout",
     "output_type": "stream",
     "text": [
      "step 0, training accuracy 0.06\n",
      "step 100, training accuracy 0.56\n",
      "step 200, training accuracy 0.78\n",
      "step 300, training accuracy 0.78\n",
      "step 400, training accuracy 0.88\n",
      "step 500, training accuracy 0.82\n",
      "step 600, training accuracy 0.96\n",
      "step 700, training accuracy 0.76\n",
      "step 800, training accuracy 0.9\n",
      "step 900, training accuracy 0.86\n",
      "step 1000, training accuracy 0.92\n",
      "step 1100, training accuracy 0.94\n",
      "step 1200, training accuracy 0.92\n",
      "step 1300, training accuracy 0.88\n",
      "step 1400, training accuracy 0.82\n",
      "step 1500, training accuracy 0.92\n",
      "step 1600, training accuracy 0.82\n",
      "step 1700, training accuracy 0.92\n",
      "step 1800, training accuracy 0.88\n",
      "step 1900, training accuracy 0.96\n",
      "step 2000, training accuracy 0.88\n",
      "step 2100, training accuracy 0.9\n",
      "step 2200, training accuracy 0.94\n",
      "step 2300, training accuracy 0.96\n",
      "step 2400, training accuracy 0.96\n",
      "step 2500, training accuracy 0.88\n",
      "step 2600, training accuracy 0.9\n",
      "step 2700, training accuracy 0.96\n",
      "step 2800, training accuracy 0.96\n",
      "step 2900, training accuracy 0.92\n",
      "step 3000, training accuracy 0.9\n",
      "step 3100, training accuracy 0.94\n",
      "step 3200, training accuracy 0.88\n",
      "step 3300, training accuracy 0.96\n",
      "step 3400, training accuracy 0.92\n",
      "step 3500, training accuracy 0.9\n",
      "step 3600, training accuracy 1\n",
      "step 3700, training accuracy 0.98\n",
      "step 3800, training accuracy 0.92\n",
      "step 3900, training accuracy 0.96\n",
      "step 4000, training accuracy 0.94\n",
      "step 4100, training accuracy 0.98\n",
      "step 4200, training accuracy 0.96\n",
      "step 4300, training accuracy 0.96\n",
      "step 4400, training accuracy 0.98\n",
      "step 4500, training accuracy 0.88\n",
      "step 4600, training accuracy 0.98\n",
      "step 4700, training accuracy 0.98\n",
      "step 4800, training accuracy 0.96\n",
      "step 4900, training accuracy 0.96\n",
      "step 5000, training accuracy 1\n",
      "step 5100, training accuracy 0.98\n",
      "step 5200, training accuracy 0.92\n",
      "step 5300, training accuracy 0.94\n",
      "step 5400, training accuracy 0.96\n",
      "step 5500, training accuracy 1\n",
      "step 5600, training accuracy 0.96\n",
      "step 5700, training accuracy 0.94\n",
      "step 5800, training accuracy 0.98\n",
      "step 5900, training accuracy 0.98\n",
      "step 6000, training accuracy 0.94\n",
      "step 6100, training accuracy 0.94\n",
      "step 6200, training accuracy 0.96\n",
      "step 6300, training accuracy 0.98\n",
      "step 6400, training accuracy 0.94\n",
      "step 6500, training accuracy 1\n",
      "step 6600, training accuracy 0.98\n",
      "step 6700, training accuracy 0.96\n",
      "step 6800, training accuracy 0.98\n",
      "step 6900, training accuracy 0.96\n",
      "step 7000, training accuracy 0.96\n",
      "step 7100, training accuracy 1\n",
      "step 7200, training accuracy 1\n",
      "step 7300, training accuracy 0.96\n",
      "step 7400, training accuracy 0.96\n",
      "step 7500, training accuracy 0.98\n",
      "step 7600, training accuracy 1\n",
      "step 7700, training accuracy 0.96\n",
      "step 7800, training accuracy 0.94\n",
      "step 7900, training accuracy 0.98\n",
      "step 8000, training accuracy 0.96\n",
      "step 8100, training accuracy 0.96\n",
      "step 8200, training accuracy 0.96\n",
      "step 8300, training accuracy 1\n",
      "step 8400, training accuracy 0.96\n",
      "step 8500, training accuracy 0.98\n",
      "step 8600, training accuracy 1\n",
      "step 8700, training accuracy 0.96\n",
      "step 8800, training accuracy 0.94\n",
      "step 8900, training accuracy 1\n",
      "step 9000, training accuracy 0.98\n",
      "step 9100, training accuracy 0.98\n",
      "step 9200, training accuracy 1\n",
      "step 9300, training accuracy 1\n",
      "step 9400, training accuracy 0.98\n",
      "step 9500, training accuracy 0.98\n",
      "step 9600, training accuracy 0.98\n",
      "step 9700, training accuracy 0.98\n",
      "step 9800, training accuracy 0.98\n",
      "step 9900, training accuracy 0.98\n",
      "step 10000, training accuracy 0.98\n",
      "step 10100, training accuracy 1\n",
      "step 10200, training accuracy 0.98\n",
      "step 10300, training accuracy 1\n",
      "step 10400, training accuracy 0.96\n",
      "step 10500, training accuracy 0.98\n",
      "step 10600, training accuracy 0.98\n",
      "step 10700, training accuracy 0.98\n",
      "step 10800, training accuracy 1\n",
      "step 10900, training accuracy 0.98\n",
      "step 11000, training accuracy 0.96\n",
      "step 11100, training accuracy 1\n",
      "step 11200, training accuracy 0.98\n",
      "step 11300, training accuracy 0.92\n",
      "step 11400, training accuracy 1\n",
      "step 11500, training accuracy 1\n",
      "step 11600, training accuracy 1\n",
      "step 11700, training accuracy 0.98\n",
      "step 11800, training accuracy 1\n",
      "step 11900, training accuracy 0.98\n",
      "step 12000, training accuracy 0.98\n",
      "step 12100, training accuracy 0.98\n",
      "step 12200, training accuracy 0.96\n",
      "step 12300, training accuracy 0.96\n",
      "step 12400, training accuracy 0.96\n",
      "step 12500, training accuracy 1\n",
      "step 12600, training accuracy 0.96\n",
      "step 12700, training accuracy 0.94\n",
      "step 12800, training accuracy 0.98\n",
      "step 12900, training accuracy 1\n",
      "step 13000, training accuracy 0.98\n",
      "step 13100, training accuracy 0.98\n",
      "step 13200, training accuracy 0.98\n",
      "step 13300, training accuracy 0.96\n",
      "step 13400, training accuracy 0.96\n",
      "step 13500, training accuracy 1\n",
      "step 13600, training accuracy 0.98\n",
      "step 13700, training accuracy 1\n",
      "step 13800, training accuracy 1\n",
      "step 13900, training accuracy 0.98\n",
      "step 14000, training accuracy 1\n",
      "step 14100, training accuracy 1\n",
      "step 14200, training accuracy 1\n",
      "step 14300, training accuracy 0.98\n",
      "step 14400, training accuracy 1\n",
      "step 14500, training accuracy 1\n",
      "step 14600, training accuracy 1\n",
      "step 14700, training accuracy 1\n",
      "step 14800, training accuracy 0.98\n",
      "step 14900, training accuracy 1\n",
      "step 15000, training accuracy 1\n",
      "step 15100, training accuracy 0.96\n",
      "step 15200, training accuracy 0.96\n",
      "step 15300, training accuracy 0.96\n",
      "step 15400, training accuracy 0.96\n",
      "step 15500, training accuracy 1\n",
      "step 15600, training accuracy 0.96\n",
      "step 15700, training accuracy 1\n",
      "step 15800, training accuracy 0.96\n",
      "step 15900, training accuracy 0.98\n",
      "step 16000, training accuracy 1\n",
      "step 16100, training accuracy 1\n",
      "step 16200, training accuracy 1\n",
      "step 16300, training accuracy 0.98\n",
      "step 16400, training accuracy 1\n",
      "step 16500, training accuracy 0.98\n",
      "step 16600, training accuracy 0.98\n",
      "step 16700, training accuracy 1\n",
      "step 16800, training accuracy 1\n",
      "step 16900, training accuracy 1\n",
      "step 17000, training accuracy 0.98\n",
      "step 17100, training accuracy 1\n",
      "step 17200, training accuracy 0.98\n",
      "step 17300, training accuracy 0.98\n",
      "step 17400, training accuracy 0.96\n",
      "step 17500, training accuracy 0.98\n",
      "step 17600, training accuracy 0.98\n",
      "step 17700, training accuracy 0.98\n",
      "step 17800, training accuracy 0.98\n",
      "step 17900, training accuracy 0.98\n",
      "step 18000, training accuracy 1\n",
      "step 18100, training accuracy 1\n",
      "step 18200, training accuracy 1\n",
      "step 18300, training accuracy 1\n",
      "step 18400, training accuracy 1\n",
      "step 18500, training accuracy 1\n",
      "step 18600, training accuracy 1\n",
      "step 18700, training accuracy 0.96\n",
      "step 18800, training accuracy 0.96\n",
      "step 18900, training accuracy 0.98\n",
      "step 19000, training accuracy 1\n",
      "step 19100, training accuracy 0.98\n",
      "step 19200, training accuracy 1\n",
      "step 19300, training accuracy 0.98\n",
      "step 19400, training accuracy 1\n",
      "step 19500, training accuracy 1\n",
      "step 19600, training accuracy 1\n",
      "step 19700, training accuracy 0.98\n",
      "step 19800, training accuracy 1\n",
      "step 19900, training accuracy 1\n",
      "test accuracy 0.982102003431\n"
     ]
    }
   ],
   "source": [
    "with tf.device('/gpu:0'): #or '/cpu:0' for cpu only\n",
    "    #W_conv1 = weight_variable([5, 5, 1, 32])\n",
    "    #b_conv1 = bias_variable([32])\n",
    "    x_image = tf.reshape(x, [-1, 28, 28, 1])    \n",
    "    h_conv1, W_conv1, b_conv1 = cnn_layer(x_image, [5, 5, 1, 32], [32])\n",
    "    #h_conv1 = tf.nn.relu(conv2d(x_image, W_conv1) + b_conv1)\n",
    "    h_pool1 = max_pool_2x2(h_conv1)\n",
    "    \n",
    "    w_fc2 = weight_variable([14*14*32, 10])\n",
    "    b_fc2 = bias_variable([10])\n",
    "    \n",
    "    h_pool2_flat = tf.reshape(h_pool1, [-1, 14*14*32])\n",
    "    y_conv = tf.matmul(h_pool2_flat, w_fc2) + b_fc2\n",
    "    \n",
    "    cross_entropy = tf.reduce_mean(tf.nn.softmax_cross_entropy_with_logits(labels = y_, logits = y_conv))\n",
    "    train_step = tf.train.AdamOptimizer(1e-4).minimize(cross_entropy)\n",
    "    correct_prediction = tf.equal(tf.argmax(y_conv, 1), tf.argmax(y_, 1))\n",
    "    accuracy = tf.reduce_mean(tf.cast(correct_prediction, tf.float32))\n",
    "    \n",
    "    with tf.Session(config = tf.ConfigProto(allow_soft_placement = True,\n",
    "                                           log_device_placement = True)) as sess:\n",
    "        \n",
    "        sess.run(tf.global_variables_initializer())\n",
    "        for i in range(20000):\n",
    "            hp = h_pool1\n",
    "            batch = mnist.train.next_batch(50)\n",
    "            feed_dict={x: batch[0], y_: batch[1]}\n",
    "            if i%100 == 0:\n",
    "                train_accuracy = accuracy.eval(feed_dict=feed_dict)\n",
    "                print ('step %d, training accuracy %g' % (i, train_accuracy))\n",
    "            train_step.run(feed_dict=feed_dict)\n",
    "        #x = mnist.train.images[0:12]\n",
    "        #xx = x_image\n",
    "        #hh = h_conv1\n",
    "        #hp = h_pool1\n",
    "        n_batches = mnist.test.images.shape[0] #50\n",
    "        cumulative_accuracy = 0.0\n",
    "        for index in range(n_batches):\n",
    "            batch = mnist.test.next_batch(50)\n",
    "            cumulative_accuracy += accuracy.eval(feed_dict={x: batch[0], y_: batch[1]})\n",
    "        print(\"test accuracy {}\".format(cumulative_accuracy / n_batches))"
   ]
  },
  {
   "cell_type": "markdown",
   "metadata": {},
   "source": [
    "## Capstime"
   ]
  },
  {
   "cell_type": "code",
   "execution_count": null,
   "metadata": {
    "collapsed": true
   },
   "outputs": [],
   "source": [
    "Inputs = conv output\n",
    "n_convcaps = 8\n",
    "n_channels = 32\n",
    "kernel_size = 9\n",
    "n_strides = 2\n",
    "padding = 'valid'"
   ]
  },
  {
   "cell_type": "code",
   "execution_count": 23,
   "metadata": {},
   "outputs": [],
   "source": [
    "def conv2d(Input, Weights, n_strides=2, padding='SAME'):\n",
    "    return tf.nn.conv2d(Input, Weights, strides = [1, n_strides, n_strides, 1], padding=padding)\n",
    "def max_pool_2x2(Input):\n",
    "    return tf.nn.max_pool(Input, ksize = [1, 2, 2, 1],\n",
    "                         strides = [1, 2, 2, 1], padding = 'SAME')"
   ]
  },
  {
   "cell_type": "code",
   "execution_count": 58,
   "metadata": {
    "collapsed": true
   },
   "outputs": [],
   "source": [
    "def cnn_layer(Input, Weights_shape, Bias_shape, n_strides, padding, activation=True):\n",
    "    w_conv = weight_variable(Weights_shape)\n",
    "    b_conv = weight_variable(Bias_shape)\n",
    "    if activation == True:\n",
    "        h_conv = tf.nn.relu(conv2d(Input, w_conv, n_strides, padding) + b_conv)\n",
    "    else:\n",
    "        h_conv = conv2d(Input, w_conv, n_strides, padding) + b_conv\n",
    "    return h_conv, w_conv, b_conv"
   ]
  },
  {
   "cell_type": "code",
   "execution_count": 88,
   "metadata": {
    "collapsed": true
   },
   "outputs": [],
   "source": [
    "def Primary_caps(Inputs, n_convcaps, n_channels, kernel_size, n_strides, padding):\n",
    "    h_conv, W_conv, b_conv = cnn_layer(Inputs, kernel_size, [n_convcaps*n_channels], n_strides, padding, activation='False')\n",
    "    caps_outs = tf.reshape(h_conv, [-1, n_convcaps])\n",
    "    return caps_outs, h_conv"
   ]
  },
  {
   "cell_type": "code",
   "execution_count": null,
   "metadata": {
    "collapsed": true
   },
   "outputs": [],
   "source": [
    "def squashing_func(vector, axis=-1):\n",
    "    sq_norm = "
   ]
  },
  {
   "cell_type": "code",
   "execution_count": 89,
   "metadata": {},
   "outputs": [
    {
     "data": {
      "text/plain": [
       "256"
      ]
     },
     "execution_count": 89,
     "metadata": {},
     "output_type": "execute_result"
    }
   ],
   "source": [
    "8*32"
   ]
  },
  {
   "cell_type": "code",
   "execution_count": 93,
   "metadata": {
    "scrolled": true
   },
   "outputs": [],
   "source": [
    "tf.Session.reset\n",
    "with tf.device('/gpu:0'): #or '/cpu:0' for cpu only\n",
    "    x_image = tf.reshape(x, [-1, 28, 28, 1])    \n",
    "    h_conv1, W_conv1, b_conv1 = cnn_layer(x_image, [9, 9, 1, 256], [256], 1, padding='VALID')\n",
    "    #h_conv, W_conv, b_conv = cnn_layer(h_conv1, [9, 9, 256, 32*8], [32*8], 2, padding='VALID', activation='False')\n",
    "    primarycaps, h_pout = Primary_caps(h_conv1, 8, 32, [9, 9, 256, 32*8], 2,padding='VALID')\n",
    "    #h_conv1 = tf.nn.relu(conv2d(x_image, W_conv1) + b_conv1)\n",
    "    b_ij = tf.constant(0, shape = shape)\n",
    "    c = tn.nn.softmax()\n",
    "    \n",
    "    with tf.Session(config = tf.ConfigProto(allow_soft_placement = True,\n",
    "                                           log_device_placement = True)) as sess:\n",
    "    \n",
    "        x = mnist.train.images[0]\n",
    "        xx = x_image\n",
    "        hh = h_conv1\n",
    "        hp = h_pool1\n",
    "        prim = primarycaps\n",
    "        h_p = h_pout\n",
    "    "
   ]
  },
  {
   "cell_type": "code",
   "execution_count": 96,
   "metadata": {},
   "outputs": [
    {
     "name": "stdout",
     "output_type": "stream",
     "text": [
      "(784,)\n",
      "(1, 28, 28, 1)\n",
      "(1, 20, 20, 256)\n",
      "(1, 6, 6, 256)\n",
      "(1152, 8)\n"
     ]
    }
   ],
   "source": [
    "print x.shape\n",
    "print xx.shape\n",
    "print h_conv1.shape\n",
    "print h_p.shape\n",
    "print prim.shape"
   ]
  },
  {
   "cell_type": "code",
   "execution_count": 103,
   "metadata": {},
   "outputs": [
    {
     "data": {
      "text/plain": [
       "32"
      ]
     },
     "execution_count": 103,
     "metadata": {},
     "output_type": "execute_result"
    }
   ],
   "source": [
    "1152/36"
   ]
  },
  {
   "cell_type": "code",
   "execution_count": null,
   "metadata": {
    "collapsed": true
   },
   "outputs": [],
   "source": []
  }
 ],
 "metadata": {
  "kernelspec": {
   "display_name": "Python 2",
   "language": "python",
   "name": "python2"
  },
  "language_info": {
   "codemirror_mode": {
    "name": "ipython",
    "version": 2
   },
   "file_extension": ".py",
   "mimetype": "text/x-python",
   "name": "python",
   "nbconvert_exporter": "python",
   "pygments_lexer": "ipython2",
   "version": "2.7.12"
  }
 },
 "nbformat": 4,
 "nbformat_minor": 2
}
